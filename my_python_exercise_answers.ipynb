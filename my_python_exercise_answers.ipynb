{
 "cells": [
  {
   "cell_type": "markdown",
   "id": "a7b43dbb",
   "metadata": {},
   "source": [
    "# Python Review\n",
    "\n",
    "#### Exercises from W3schools.com for practice starting from beginning\n",
    "\n",
    "____"
   ]
  },
  {
   "cell_type": "markdown",
   "id": "83bf3091",
   "metadata": {},
   "source": [
    "### Exercise #1:\n",
    "Insert the missing part of the code below to output \"Hello World\"."
   ]
  },
  {
   "cell_type": "code",
   "execution_count": 1,
   "id": "f3e3978b",
   "metadata": {},
   "outputs": [
    {
     "data": {
      "text/plain": [
       "'Hello World'"
      ]
     },
     "execution_count": 1,
     "metadata": {},
     "output_type": "execute_result"
    }
   ],
   "source": [
    "print\n",
    "(\"Hello World\")"
   ]
  },
  {
   "cell_type": "markdown",
   "id": "df1ce24a",
   "metadata": {},
   "source": [
    "### Exercise #2:\n",
    "Insert the missing indentation to make the code correct:"
   ]
  },
  {
   "cell_type": "code",
   "execution_count": 2,
   "id": "45ca7ed3",
   "metadata": {},
   "outputs": [
    {
     "name": "stdout",
     "output_type": "stream",
     "text": [
      "Five is greater than two!\n"
     ]
    }
   ],
   "source": [
    "if 5 > 2:\n",
    "    print(\"Five is greater than two!\")"
   ]
  },
  {
   "cell_type": "markdown",
   "id": "8736572c",
   "metadata": {},
   "source": [
    "### Exercise #3:\n",
    "Comments in Python are written with a special character, which one?"
   ]
  },
  {
   "cell_type": "code",
   "execution_count": 3,
   "id": "3f21a534",
   "metadata": {},
   "outputs": [],
   "source": [
    "# This is a comment"
   ]
  },
  {
   "cell_type": "markdown",
   "id": "e9797a64",
   "metadata": {},
   "source": [
    "### Exercise #4:\n",
    "Use a multiline string to make the a multi line comment:"
   ]
  },
  {
   "cell_type": "code",
   "execution_count": 4,
   "id": "8dfcc7f6",
   "metadata": {},
   "outputs": [
    {
     "data": {
      "text/plain": [
       "'\\nThis is a comment\\nwritten in \\nmore that just one line\\n'"
      ]
     },
     "execution_count": 4,
     "metadata": {},
     "output_type": "execute_result"
    }
   ],
   "source": [
    "\"\"\"\n",
    "This is a comment\n",
    "written in \n",
    "more that just one line\n",
    "\"\"\""
   ]
  },
  {
   "cell_type": "markdown",
   "id": "397afa93",
   "metadata": {},
   "source": [
    "### Exercise #5:\n",
    "Create a variable named carname and assign the value Volvo to it."
   ]
  },
  {
   "cell_type": "code",
   "execution_count": 5,
   "id": "2c825ff6",
   "metadata": {},
   "outputs": [],
   "source": [
    "carname = \"Volvo\""
   ]
  },
  {
   "cell_type": "markdown",
   "id": "d3727b61",
   "metadata": {},
   "source": [
    "### Exercise #6:\n",
    "Create a variable named x and assign the value 50 to it."
   ]
  },
  {
   "cell_type": "code",
   "execution_count": 6,
   "id": "974e0787",
   "metadata": {},
   "outputs": [],
   "source": [
    "x = 50"
   ]
  },
  {
   "cell_type": "markdown",
   "id": "5f8a92a5",
   "metadata": {},
   "source": [
    "### Exercise #7:\n",
    "Display the sum of 5 + 10, using two variables: x and y."
   ]
  },
  {
   "cell_type": "code",
   "execution_count": 7,
   "id": "9e308e39",
   "metadata": {},
   "outputs": [
    {
     "name": "stdout",
     "output_type": "stream",
     "text": [
      "15\n"
     ]
    }
   ],
   "source": [
    "x = 5\n",
    "y = 10\n",
    "print(x + y)"
   ]
  },
  {
   "cell_type": "markdown",
   "id": "18bb4993",
   "metadata": {},
   "source": [
    "### Exercise #8:\n",
    "Create a variable called z, assign x + y to it, and display the result."
   ]
  },
  {
   "cell_type": "code",
   "execution_count": 8,
   "id": "8feb7c64",
   "metadata": {},
   "outputs": [
    {
     "name": "stdout",
     "output_type": "stream",
     "text": [
      "15\n"
     ]
    }
   ],
   "source": [
    "x = 5\n",
    "y = 10\n",
    "z = x + y\n",
    "print(z)"
   ]
  },
  {
   "cell_type": "markdown",
   "id": "b2a18a83",
   "metadata": {},
   "source": [
    "### Exercise #9:\n",
    "Remove the illegal characters in the variable name:"
   ]
  },
  {
   "cell_type": "code",
   "execution_count": 9,
   "id": "4d9cd1a4",
   "metadata": {},
   "outputs": [],
   "source": [
    "my_first_name = \"John\""
   ]
  },
  {
   "cell_type": "markdown",
   "id": "04a05a2e",
   "metadata": {},
   "source": [
    "### Exercise #10:\n",
    "Insert the correct syntax to assign the same value to all three variables in one code line."
   ]
  },
  {
   "cell_type": "code",
   "execution_count": 10,
   "id": "e7d3a64d",
   "metadata": {},
   "outputs": [],
   "source": [
    "x = y = z = \"Orange\""
   ]
  },
  {
   "cell_type": "markdown",
   "id": "fcc0a093",
   "metadata": {},
   "source": [
    "### Exercise #11:\n",
    "Insert the correct keyword to make the variable x belong to the global scope."
   ]
  },
  {
   "cell_type": "code",
   "execution_count": 11,
   "id": "cb11e78d",
   "metadata": {},
   "outputs": [],
   "source": [
    "def myfunc():\n",
    "    global x\n",
    "    x = \"fantastic\""
   ]
  },
  {
   "cell_type": "markdown",
   "id": "7c49bad9",
   "metadata": {},
   "source": [
    "### Exercise #12:\n",
    "The following code example would print the data type of x, what data type would that be?"
   ]
  },
  {
   "cell_type": "code",
   "execution_count": 12,
   "id": "49c16b87",
   "metadata": {},
   "outputs": [
    {
     "name": "stdout",
     "output_type": "stream",
     "text": [
      "<class 'int'>\n"
     ]
    }
   ],
   "source": [
    "x = 5\n",
    "print(type(x))\n",
    "\n",
    "# int"
   ]
  },
  {
   "cell_type": "markdown",
   "id": "1fb7bced",
   "metadata": {},
   "source": [
    "### Exercise #13:\n",
    "The following code example would print the data type of x, what data type would that be?"
   ]
  },
  {
   "cell_type": "code",
   "execution_count": 13,
   "id": "7b75bceb",
   "metadata": {},
   "outputs": [
    {
     "name": "stdout",
     "output_type": "stream",
     "text": [
      "<class 'str'>\n"
     ]
    }
   ],
   "source": [
    "x = \"Hello World\"\n",
    "print(type(x))\n",
    "\n",
    "# str"
   ]
  },
  {
   "cell_type": "markdown",
   "id": "f1ddfddb",
   "metadata": {},
   "source": [
    "### Exercise #14:\n",
    "The following code example would print the data type of x, what data type would that be?"
   ]
  },
  {
   "cell_type": "code",
   "execution_count": 14,
   "id": "4d541ad3",
   "metadata": {},
   "outputs": [
    {
     "name": "stdout",
     "output_type": "stream",
     "text": [
      "<class 'float'>\n"
     ]
    }
   ],
   "source": [
    "x = 20.5\n",
    "print(type(x))\n",
    "\n",
    "# float"
   ]
  },
  {
   "cell_type": "markdown",
   "id": "f40374f7",
   "metadata": {},
   "source": [
    "### Exercise #15:\n",
    "The following code example would print the data type of x, what data type would that be?"
   ]
  },
  {
   "cell_type": "code",
   "execution_count": 15,
   "id": "8f9f2781",
   "metadata": {},
   "outputs": [
    {
     "name": "stdout",
     "output_type": "stream",
     "text": [
      "<class 'list'>\n"
     ]
    }
   ],
   "source": [
    "x = [\"apple\", \"banana\", \"cherry\"]\n",
    "print(type(x))\n",
    "\n",
    "# list"
   ]
  },
  {
   "cell_type": "markdown",
   "id": "e55ead3d",
   "metadata": {},
   "source": [
    "### Exercise #16:\n",
    "The following code example would print the data type of x, what data type would that be?"
   ]
  },
  {
   "cell_type": "code",
   "execution_count": 16,
   "id": "cde6593d",
   "metadata": {},
   "outputs": [
    {
     "name": "stdout",
     "output_type": "stream",
     "text": [
      "<class 'tuple'>\n"
     ]
    }
   ],
   "source": [
    "x = (\"apple\", \"banana\", \"cherry\")\n",
    "print(type(x))\n",
    "\n",
    "# tuple"
   ]
  },
  {
   "cell_type": "markdown",
   "id": "a641cb51",
   "metadata": {},
   "source": [
    "### Exercise #17:\n",
    "The following code example would print the data type of x, what data type would that be?"
   ]
  },
  {
   "cell_type": "code",
   "execution_count": 17,
   "id": "30d201d3",
   "metadata": {},
   "outputs": [
    {
     "name": "stdout",
     "output_type": "stream",
     "text": [
      "<class 'dict'>\n"
     ]
    }
   ],
   "source": [
    "x = {\"name\" : \"John\", \"age\" : 36}\n",
    "print(type(x))\n",
    "\n",
    "# dict"
   ]
  },
  {
   "cell_type": "markdown",
   "id": "d1736bc1",
   "metadata": {},
   "source": [
    "### Exercise #18:\n",
    "The following code example would print the data type of x, what data type would that be?"
   ]
  },
  {
   "cell_type": "code",
   "execution_count": 18,
   "id": "1d8f19ec",
   "metadata": {},
   "outputs": [
    {
     "name": "stdout",
     "output_type": "stream",
     "text": [
      "<class 'bool'>\n"
     ]
    }
   ],
   "source": [
    "x = True\n",
    "print(type(x))\n",
    "\n",
    "# bool"
   ]
  },
  {
   "cell_type": "markdown",
   "id": "f88edbd2",
   "metadata": {},
   "source": [
    "### Exercise #19:\n",
    "Insert the correct syntax to convert x into a floating point number."
   ]
  },
  {
   "cell_type": "code",
   "execution_count": 19,
   "id": "02fc798f",
   "metadata": {},
   "outputs": [],
   "source": [
    "x = 5\n",
    "x = float(x)"
   ]
  },
  {
   "cell_type": "markdown",
   "id": "961fb89c",
   "metadata": {},
   "source": [
    "### Exercise #20:\n",
    "Insert the correct syntax to convert x into a integer."
   ]
  },
  {
   "cell_type": "code",
   "execution_count": 20,
   "id": "06f26f24",
   "metadata": {},
   "outputs": [],
   "source": [
    "x = 5.5\n",
    "x = int(x)"
   ]
  }
 ],
 "metadata": {
  "kernelspec": {
   "display_name": "Python 3.8.8 64-bit ('base': conda)",
   "language": "python",
   "name": "python388jvsc74a57bd0b64057e63add2b45b1ffc7eab9b09c8889b419c878e2fdf0d08f837f0fc857a7"
  },
  "language_info": {
   "codemirror_mode": {
    "name": "ipython",
    "version": 3
   },
   "file_extension": ".py",
   "mimetype": "text/x-python",
   "name": "python",
   "nbconvert_exporter": "python",
   "pygments_lexer": "ipython3",
   "version": "3.8.8"
  }
 },
 "nbformat": 4,
 "nbformat_minor": 5
}
